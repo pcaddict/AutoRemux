{
 "cells": [
  {
   "cell_type": "code",
   "execution_count": null,
   "metadata": {},
   "outputs": [],
   "source": [
    "from pathlib import Path\n",
    "from multiprocessing import Pool\n",
    "from tqdm import tqdm\n",
    "from makemkv import MakeMKV, MakeMKVError\n",
    "from dataclasses import dataclass, field\n",
    "from datetime import datetime\n",
    "from argparse import ArgumentParser\n",
    "import itertools\n",
    "import json\n",
    "import logging\n",
    "\n",
    "logger = logging.getLogger(__name__)\n",
    "logger.setLevel(logging.DEBUG)"
   ]
  },
  {
   "cell_type": "code",
   "execution_count": null,
   "metadata": {},
   "outputs": [],
   "source": [
    "# @dataclass\n",
    "# class Playlist():\n",
    "#     TitleNum: int = -1\n",
    "#     Description: str = ''\n",
    "#     FileOutput: str = ''\n",
    "#     Runtime: datetime.time = ''\n",
    "#     Chapters: int = -1\n",
    "#     Size: int = -1\n",
    "\n",
    "# @dataclass\n",
    "# class Movie():\n",
    "#     Path: Path\n",
    "#     Title: str = ''\n",
    "#     Size: int = -1\n",
    "#     Processed: bool = False\n",
    "#     Playlists: list = field(default_factory=list)"
   ]
  },
  {
   "cell_type": "code",
   "execution_count": null,
   "metadata": {},
   "outputs": [],
   "source": [
    "class Playlist:\n",
    "    def __init__(self, TitleNum=-1, SourceFileName='', Description='', FileOutput='', Runtime='', Chapters=-1, Size=-1):\n",
    "        self.TitleNum = TitleNum\n",
    "        self.SourceFileName = SourceFileName\n",
    "        self.Description = Description\n",
    "        self.FileOutput = FileOutput\n",
    "        self.Runtime = Runtime\n",
    "        self.Chapters = Chapters\n",
    "        self.Size = Size\n",
    "    \n",
    "    def __repr__(self):\n",
    "        return f\"Playlist(TitleNum={self.TitleNum}, SourceFileName={self.SourceFileName}, Description='{self.Description}', FileOutput='{self.FileOutput}', Runtime={self.Runtime}, Chapters={self.Chapters}, Size={self.Size})\"\n",
    "    \n",
    "    def serialize(self):\n",
    "        return {\n",
    "            'TitleNum': self.TitleNum,\n",
    "            'SourceFileName': self.SourceFileName,\n",
    "            'Description': self.Description,\n",
    "            'FileOutput': self.FileOutput,\n",
    "            'Runtime': str(self.Runtime),\n",
    "            'Chapters': self.Chapters,\n",
    "            'Size': self.Size\n",
    "        }\n",
    "    \n",
    "    @classmethod\n",
    "    def deserialize(cls, data):\n",
    "        # Convert Runtime string back to datetime.time if it's a valid time string\n",
    "            \n",
    "        return cls(\n",
    "            TitleNum=data.get('TitleNum', -1),\n",
    "            SourceFileName=data.get('SourceFileName', ''),\n",
    "            Description=data.get('Description', ''),\n",
    "            FileOutput=data.get('FileOutput', ''),\n",
    "            Runtime = data.get('Runtime', ''),    \n",
    "            Chapters=data.get('Chapters', -1),\n",
    "            Size=data.get('Size', -1)\n",
    "        )\n",
    "\n",
    "class Movie:\n",
    "    def __init__(self, Path, Title='', Size=-1, Processed=False, Playlists=None):\n",
    "        self.Path = Path\n",
    "        self.Title = Title\n",
    "        self.Size = Size\n",
    "        self.Processed = Processed\n",
    "        self.Playlists = Playlists if Playlists is not None else []\n",
    "    \n",
    "    def __repr__(self):\n",
    "        return f\"Movie(Path='{self.Path}', Title='{self.Title}', Size={self.Size}, Processed={self.Processed}, Playlists={self.Playlists})\"\n",
    "    \n",
    "    def serialize(self):\n",
    "        return {\n",
    "            'Path': str(self.Path),\n",
    "            'Title': self.Title,\n",
    "            'Size': self.Size,\n",
    "            'Processed': self.Processed,\n",
    "            'Playlists': [playlist.serialize() for playlist in self.Playlists]\n",
    "        }\n",
    "    \n",
    "    @classmethod\n",
    "    def deserialize(cls, data):\n",
    "        # Deserialize nested Playlist objects\n",
    "        playlists = [\n",
    "            Playlist.deserialize(playlist_data)\n",
    "            for playlist_data in data.get('Playlists', [])\n",
    "        ]\n",
    "        \n",
    "        return cls(\n",
    "            Path=data.get('Path', ''),\n",
    "            Title=data.get('Title', ''),\n",
    "            Size=data.get('Size', -1),\n",
    "            Processed=data.get('Processed', False),\n",
    "            Playlists=playlists\n",
    "        )"
   ]
  },
  {
   "cell_type": "code",
   "execution_count": null,
   "metadata": {},
   "outputs": [],
   "source": [
    "def findMovieFiles(root: Path) -> list:\n",
    "    movie_isos = [x for x in root.glob('**/*') if x.suffix == \".iso\" or x.suffix == \".ISO\"]\n",
    "    # print(len(movie_isos))\n",
    "    return movie_isos\n",
    "\n",
    "def mkvProgress(task_description, progress, max):\n",
    "    # print(f'{task_description}\\t{progress}/{max}')\n",
    "    # for progress in tqdm(range(max), desc=task_description):\n",
    "    #     continue\n",
    "    pass\n",
    "\n",
    "def getBasicMovieFileDetails(file: Path) -> Movie:\n",
    "    return Movie(Path=file, Size=file.stat().st_size)\n",
    "\n",
    "def getMovieDetails(movie: Movie, min_length: int = 1200, size_cutoff: float = 0.5) -> Movie:\n",
    "    print(f'Processing: {movie.Path}')\n",
    "    try:\n",
    "        mkv = MakeMKV(input=movie.Path, minlength=min_length)\n",
    "        info = mkv.info()\n",
    "    except MakeMKVError:\n",
    "        print(f'ERROR, problem with {movie}.')\n",
    "        pass\n",
    "    else:\n",
    "        for idx, i in enumerate(info['titles']):\n",
    "            if i.get('chapter_count') is None:\n",
    "                continue\n",
    "            if i['size'] > (movie.Size * size_cutoff):\n",
    "                movie.Title = i['name'] if i.get('name') is not None else ''\n",
    "                movie.Playlists.append(Playlist(TitleNum=idx, SourceFileName=i['source_filename'], Description=i['information'], FileOutput=i['file_output'], Runtime=i['length'], Chapters=i['chapter_count'], Size=i['size']))\n",
    "    return movie\n",
    "\n",
    "def remuxMovie(movie: Movie, dest_root: Path, min_length:int=1200):\n",
    "    movie_dir = Path(movie.Path).parent\n",
    "    folder_name = movie_dir.name\n",
    "    dest_path: Path = dest_root / folder_name\n",
    "\n",
    "    if not dest_path.exists():\n",
    "        Path.mkdir(dest_path)\n",
    "    \n",
    "    try:\n",
    "        mkv = MakeMKV(input=movie.Path, minlength=min_length)\n",
    "        mkv.mkv(movie.Playlists[0].TitleNum, dest_path)\n",
    "    except KeyboardInterrupt:\n",
    "        mkv.kill()\n",
    "    finally:\n",
    "        print('MakeMKV process killed.')\n",
    "\n",
    "def remuxMovieList(movies: list[Movie], dest_root: Path, min_length: int=1200):\n",
    "    num_movies = len(movies)\n",
    "    \n",
    "    try:\n",
    "        for m in tqdm(movies):\n",
    "            if not m.Processed:\n",
    "                print(f'Working on movie {m.Title}')\n",
    "                remuxMovie(m, dest_root, min_length)\n",
    "                m.Processed = True\n",
    "    except KeyboardInterrupt:\n",
    "        dumpMovieList(movies, 'in_process.json')\n",
    "    finally:\n",
    "        print(f'Program interrupted. Load in_process.json to continue.')\n",
    "\n",
    "def dumpMovieList(movies: list, file: Path):\n",
    "    with open(file, 'w') as f:\n",
    "        json.dump([movie.serialize() for movie in movies], fp=f, indent=2)\n",
    "    print('Saved list.')\n",
    "\n",
    "def loadMovieList(file: Path) -> list[Movie]:\n",
    "    with open(file, 'r') as f:\n",
    "        movie_list = [m for m in json.load(f)]\n",
    "    return [Movie.deserialize(movie_data) for movie_data in movie_list]"
   ]
  },
  {
   "cell_type": "code",
   "execution_count": null,
   "metadata": {},
   "outputs": [],
   "source": [
    "movies_e_details = list(map(lambda m: getBasicMovieFileDetails(m), findMovieFiles(Path('/mnt/e/Blu-ray/Movies'))))\n",
    "movies_f_details = list(map(lambda m: getBasicMovieFileDetails(m), findMovieFiles(Path('/mnt/f/Blu-ray/Movies'))))\n",
    "movies_g_details = list(map(lambda m: getBasicMovieFileDetails(m), findMovieFiles(Path('/mnt/g/Blu-ray/Movies'))))\n",
    "all_movie_details = [movies_e_details, movies_f_details, movies_g_details]"
   ]
  },
  {
   "cell_type": "code",
   "execution_count": null,
   "metadata": {},
   "outputs": [],
   "source": [
    "for l in all_movie_details:\n",
    "    with Pool(4) as p:\n",
    "        result = p.map(getMovieDetails, l)"
   ]
  },
  {
   "cell_type": "code",
   "execution_count": null,
   "metadata": {},
   "outputs": [],
   "source": [
    "has_mult_playlists = [m for m in result if len(m.Playlists) > 1]\n",
    "# dumpMovieList(result, 'movies_f.json')"
   ]
  },
  {
   "cell_type": "code",
   "execution_count": 10,
   "metadata": {},
   "outputs": [],
   "source": [
    "# e = loadMovieList('movies.json')\n",
    "# f = loadMovieList('movies_f.json')\n",
    "# g = loadMovieList('movies_g.json')\n",
    "all_movies = loadMovieList('all_movies.json')"
   ]
  },
  {
   "cell_type": "code",
   "execution_count": 11,
   "metadata": {},
   "outputs": [
    {
     "name": "stdout",
     "output_type": "stream",
     "text": [
      "Current Size: 21.650456953413595\n",
      "Result Size: 17.3176779811738\n",
      "Difference: 4.332778972239794\n"
     ]
    }
   ],
   "source": [
    "import operator\n",
    "original_size = sum([m.Size for m in all_movies if not m.Processed])\n",
    "mkv_size = sum([m.Playlists[0].Size for m in all_movies if not m.Processed])\n",
    "print(f'Current Size: {original_size / (1024**4)}\\nResult Size: {mkv_size / (1024**4)}\\nDifference: {(original_size - mkv_size) / (1024**4)}')"
   ]
  },
  {
   "cell_type": "code",
   "execution_count": null,
   "metadata": {},
   "outputs": [],
   "source": [
    "\n",
    "dumpMovieList(all_movies, 'all_movies.josn')"
   ]
  },
  {
   "cell_type": "code",
   "execution_count": null,
   "metadata": {},
   "outputs": [],
   "source": [
    "remuxMovieList(all_movies, Path('truenas/Movies'))"
   ]
  }
 ],
 "metadata": {
  "kernelspec": {
   "display_name": "venv",
   "language": "python",
   "name": "python3"
  },
  "language_info": {
   "codemirror_mode": {
    "name": "ipython",
    "version": 3
   },
   "file_extension": ".py",
   "mimetype": "text/x-python",
   "name": "python",
   "nbconvert_exporter": "python",
   "pygments_lexer": "ipython3",
   "version": "3.12.7"
  }
 },
 "nbformat": 4,
 "nbformat_minor": 2
}
